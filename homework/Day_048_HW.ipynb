{
 "cells": [
  {
   "cell_type": "code",
   "execution_count": 1,
   "metadata": {},
   "outputs": [],
   "source": [
    "from sklearn import datasets, metrics\n",
    "import pandas as pd\n",
    "from sklearn.ensemble import GradientBoostingClassifier\n",
    "from sklearn.model_selection import train_test_split\n",
    "from sklearn.preprocessing import MinMaxScaler, StandardScaler\n"
   ]
  },
  {
   "cell_type": "code",
   "execution_count": 2,
   "metadata": {},
   "outputs": [],
   "source": [
    "data_path = '../data/scikit-learn/'\n",
    "df = pd.read_csv(data_path + 'train.csv')\n",
    "df_label = pd.read_csv(data_path + 'trainLabels.csv')\n",
    "df_test = pd.read_csv(data_path + 'test.csv',header = None)"
   ]
  },
  {
   "cell_type": "code",
   "execution_count": 3,
   "metadata": {},
   "outputs": [
    {
     "name": "stdout",
     "output_type": "stream",
     "text": [
      "<class 'pandas.core.frame.DataFrame'>\n",
      "RangeIndex: 999 entries, 0 to 998\n",
      "Data columns (total 40 columns):\n",
      "0.29940251144353242      999 non-null float64\n",
      "-1.2266241875260637      999 non-null float64\n",
      "1.4984250500215328       999 non-null float64\n",
      "-1.1761503610375272      999 non-null float64\n",
      "5.2898525545597037       999 non-null float64\n",
      "0.20829711393323402      999 non-null float64\n",
      "2.4044983672405826       999 non-null float64\n",
      "1.5945062220589785       999 non-null float64\n",
      "-0.051608163273514231    999 non-null float64\n",
      "0.66323431039687908      999 non-null float64\n",
      "-1.4083700642531511      999 non-null float64\n",
      "1.1147436351160869       999 non-null float64\n",
      "0.91041530967390116      999 non-null float64\n",
      "2.2181103179158135       999 non-null float64\n",
      "4.3056427290235391       999 non-null float64\n",
      "0.088923978050666208     999 non-null float64\n",
      "0.1691492586690862       999 non-null float64\n",
      "0.41344763764684195      999 non-null float64\n",
      "1.5138621708864943       999 non-null float64\n",
      "2.6629665829474161       999 non-null float64\n",
      "-1.0727654812214888      999 non-null float64\n",
      "0.14911112051014644      999 non-null float64\n",
      "0.55957919164070269      999 non-null float64\n",
      "4.3788846423749064       999 non-null float64\n",
      "-0.4636026556416834      999 non-null float64\n",
      "-0.063959155289009084    999 non-null float64\n",
      "0.54493030536966891      999 non-null float64\n",
      "0.71277166708074502      999 non-null float64\n",
      "-1.4940501263538932      999 non-null float64\n",
      "-2.6361688752136554      999 non-null float64\n",
      "-0.85046544625016463     999 non-null float64\n",
      "-0.62298999638261954     999 non-null float64\n",
      "-1.8330573433160038      999 non-null float64\n",
      "0.29302438506869571      999 non-null float64\n",
      "3.5526813410266507       999 non-null float64\n",
      "0.71761099417552265      999 non-null float64\n",
      "3.3059719748508889       999 non-null float64\n",
      "-2.7155588147154619      999 non-null float64\n",
      "-2.6824085866346223      999 non-null float64\n",
      "0.10105047232890663      999 non-null float64\n",
      "dtypes: float64(40)\n",
      "memory usage: 312.3 KB\n"
     ]
    }
   ],
   "source": [
    "df.head()\n",
    "df.info()"
   ]
  },
  {
   "cell_type": "code",
   "execution_count": 4,
   "metadata": {},
   "outputs": [
    {
     "data": {
      "text/plain": [
       "0.10105047232890663     0\n",
       "-2.6824085866346223     0\n",
       "0.41344763764684195     0\n",
       "0.1691492586690862      0\n",
       "0.088923978050666208    0\n",
       "dtype: int64"
      ]
     },
     "execution_count": 4,
     "metadata": {},
     "output_type": "execute_result"
    }
   ],
   "source": [
    "df.isnull().sum().sort_values(ascending=False).head()"
   ]
  },
  {
   "cell_type": "code",
   "execution_count": 5,
   "metadata": {},
   "outputs": [],
   "source": [
    "train_Y = df_label\n",
    "df_temp = StandardScaler().fit_transform(df)\n",
    "\n",
    "train_X = df_temp\n"
   ]
  },
  {
   "cell_type": "code",
   "execution_count": 6,
   "metadata": {},
   "outputs": [],
   "source": [
    "train_X, test_X, train_Y, test_Y = train_test_split(train_X, train_Y, test_size=0.5)\n"
   ]
  },
  {
   "cell_type": "code",
   "execution_count": 7,
   "metadata": {},
   "outputs": [
    {
     "name": "stderr",
     "output_type": "stream",
     "text": [
      "C:\\ProgramData\\Anaconda3\\envs\\python37\\lib\\site-packages\\sklearn\\utils\\validation.py:761: DataConversionWarning: A column-vector y was passed when a 1d array was expected. Please change the shape of y to (n_samples, ), for example using ravel().\n",
      "  y = column_or_1d(y, warn=True)\n"
     ]
    }
   ],
   "source": [
    "# 建立模型\n",
    "clf = GradientBoostingClassifier()\n",
    "\n",
    "# 訓練模型\n",
    "clf.fit(train_X, train_Y)\n",
    "\n",
    "# 預測測試集\n",
    "y_pred = clf.predict(test_X)"
   ]
  },
  {
   "cell_type": "code",
   "execution_count": 8,
   "metadata": {},
   "outputs": [
    {
     "name": "stdout",
     "output_type": "stream",
     "text": [
      "Accuracy:  0.842\n"
     ]
    }
   ],
   "source": [
    "acc = metrics.accuracy_score(test_Y, y_pred)\n",
    "print(\"Accuracy: \", acc)"
   ]
  },
  {
   "cell_type": "code",
   "execution_count": 9,
   "metadata": {},
   "outputs": [],
   "source": [
    "Final_test_x = StandardScaler().fit_transform(df_test)"
   ]
  },
  {
   "cell_type": "code",
   "execution_count": 10,
   "metadata": {},
   "outputs": [],
   "source": [
    "# 預測測試集\n",
    "Final_y_pred = clf.predict(Final_test_x)"
   ]
  },
  {
   "cell_type": "code",
   "execution_count": 20,
   "metadata": {},
   "outputs": [],
   "source": [
    "output = pd.DataFrame(Final_y_pred,columns=['Solution']).reset_index()\n",
    "output['index'] = output['index'] + 1\n",
    "output.rename(columns = {'index':'Id'},inplace=True)"
   ]
  },
  {
   "cell_type": "code",
   "execution_count": 21,
   "metadata": {},
   "outputs": [],
   "source": [
    "# save result\n",
    "output.to_csv(data_path + 'Final_y_pred.csv',index = False)"
   ]
  }
 ],
 "metadata": {
  "kernelspec": {
   "display_name": "Python 3",
   "language": "python",
   "name": "python3"
  },
  "language_info": {
   "codemirror_mode": {
    "name": "ipython",
    "version": 3
   },
   "file_extension": ".py",
   "mimetype": "text/x-python",
   "name": "python",
   "nbconvert_exporter": "python",
   "pygments_lexer": "ipython3",
   "version": "3.7.3"
  }
 },
 "nbformat": 4,
 "nbformat_minor": 2
}
