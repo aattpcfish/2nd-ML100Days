{
 "cells": [
  {
   "cell_type": "markdown",
   "metadata": {},
   "source": [
    "## Work\n",
    "1. 試比較 save_best_only 與否的差異\n",
    "2. 請僅存入將 save_weights_only 設定為 True, 並嘗試 reset ipynb 並將模型與權重重新建回並預測 x_test"
   ]
  },
  {
   "cell_type": "code",
   "execution_count": 1,
   "metadata": {},
   "outputs": [
    {
     "name": "stderr",
     "output_type": "stream",
     "text": [
      "Using TensorFlow backend.\n"
     ]
    }
   ],
   "source": [
    "import os\n",
    "import keras\n",
    "\n",
    "# Disable GPU\n",
    "os.environ[\"CUDA_VISIBLE_DEVICES\"] = \"\""
   ]
  },
  {
   "cell_type": "code",
   "execution_count": 2,
   "metadata": {},
   "outputs": [],
   "source": [
    "train, test = keras.datasets.cifar10.load_data()"
   ]
  },
  {
   "cell_type": "code",
   "execution_count": 3,
   "metadata": {},
   "outputs": [],
   "source": [
    "## 資料前處理\n",
    "def preproc_x(x, flatten=True):\n",
    "    x = x / 255.\n",
    "    if flatten:\n",
    "        x = x.reshape((len(x), -1))\n",
    "    return x\n",
    "\n",
    "def preproc_y(y, num_classes=10):\n",
    "    if y.shape[-1] == 1:\n",
    "        y = keras.utils.to_categorical(y, num_classes)\n",
    "    return y    "
   ]
  },
  {
   "cell_type": "code",
   "execution_count": 4,
   "metadata": {},
   "outputs": [],
   "source": [
    "x_train, y_train = train\n",
    "x_test, y_test = test\n",
    "\n",
    "# Preproc the inputs\n",
    "x_train = preproc_x(x_train)\n",
    "x_test = preproc_x(x_test)\n",
    "\n",
    "# Preprc the outputs\n",
    "y_train = preproc_y(y_train)\n",
    "y_test = preproc_y(y_test)"
   ]
  },
  {
   "cell_type": "code",
   "execution_count": 5,
   "metadata": {},
   "outputs": [],
   "source": [
    "from keras.layers import BatchNormalization\n",
    "\n",
    "def build_mlp(input_shape, output_units=10, num_neurons=[512, 256, 128]):\n",
    "    input_layer = keras.layers.Input(input_shape)\n",
    "    \n",
    "    for i, n_units in enumerate(num_neurons):\n",
    "        if i == 0:\n",
    "            x = keras.layers.Dense(units=n_units, \n",
    "                                   activation=\"relu\", \n",
    "                                   name=\"hidden_layer\"+str(i+1))(input_layer)\n",
    "            x = BatchNormalization()(x)\n",
    "        else:\n",
    "            x = keras.layers.Dense(units=n_units, \n",
    "                                   activation=\"relu\", \n",
    "                                   name=\"hidden_layer\"+str(i+1))(x)\n",
    "            x = BatchNormalization()(x)\n",
    "    \n",
    "    out = keras.layers.Dense(units=output_units, activation=\"softmax\", name=\"output\")(x)\n",
    "    \n",
    "    model = keras.models.Model(inputs=[input_layer], outputs=[out])\n",
    "    return model\n",
    "    return model"
   ]
  },
  {
   "cell_type": "code",
   "execution_count": 6,
   "metadata": {},
   "outputs": [],
   "source": [
    "\"\"\"Code Here\n",
    "設定超參數\n",
    "\"\"\"\n",
    "LEARNING_RATE = 1e-3\n",
    "EPOCHS = 50\n",
    "BATCH_SIZE = 1024\n",
    "MOMENTUM = 0.95"
   ]
  },
  {
   "cell_type": "code",
   "execution_count": 7,
   "metadata": {},
   "outputs": [
    {
     "name": "stdout",
     "output_type": "stream",
     "text": [
      "WARNING:tensorflow:From C:\\Users\\USer\\Anaconda3\\envs\\Analysis\\lib\\site-packages\\tensorflow\\python\\framework\\op_def_library.py:263: colocate_with (from tensorflow.python.framework.ops) is deprecated and will be removed in a future version.\n",
      "Instructions for updating:\n",
      "Colocations handled automatically by placer.\n",
      "_________________________________________________________________\n",
      "Layer (type)                 Output Shape              Param #   \n",
      "=================================================================\n",
      "input_1 (InputLayer)         (None, 3072)              0         \n",
      "_________________________________________________________________\n",
      "hidden_layer1 (Dense)        (None, 512)               1573376   \n",
      "_________________________________________________________________\n",
      "batch_normalization_1 (Batch (None, 512)               2048      \n",
      "_________________________________________________________________\n",
      "hidden_layer2 (Dense)        (None, 256)               131328    \n",
      "_________________________________________________________________\n",
      "batch_normalization_2 (Batch (None, 256)               1024      \n",
      "_________________________________________________________________\n",
      "hidden_layer3 (Dense)        (None, 128)               32896     \n",
      "_________________________________________________________________\n",
      "batch_normalization_3 (Batch (None, 128)               512       \n",
      "_________________________________________________________________\n",
      "output (Dense)               (None, 10)                1290      \n",
      "=================================================================\n",
      "Total params: 1,742,474\n",
      "Trainable params: 1,740,682\n",
      "Non-trainable params: 1,792\n",
      "_________________________________________________________________\n",
      "WARNING:tensorflow:From C:\\Users\\USer\\Anaconda3\\envs\\Analysis\\lib\\site-packages\\tensorflow\\python\\ops\\math_ops.py:3066: to_int32 (from tensorflow.python.ops.math_ops) is deprecated and will be removed in a future version.\n",
      "Instructions for updating:\n",
      "Use tf.cast instead.\n",
      "Train on 50000 samples, validate on 10000 samples\n",
      "Epoch 1/50\n",
      "50000/50000 [==============================] - 6s 111us/step - loss: 2.1956 - acc: 0.2723 - val_loss: 2.2655 - val_acc: 0.2991\n",
      "Epoch 2/50\n",
      "50000/50000 [==============================] - 2s 37us/step - loss: 1.7396 - acc: 0.3907 - val_loss: 1.8421 - val_acc: 0.3755\n",
      "Epoch 3/50\n",
      "50000/50000 [==============================] - 2s 37us/step - loss: 1.6169 - acc: 0.4315 - val_loss: 1.7074 - val_acc: 0.4069\n",
      "Epoch 4/50\n",
      "50000/50000 [==============================] - 2s 37us/step - loss: 1.5418 - acc: 0.4600 - val_loss: 1.6332 - val_acc: 0.4298\n",
      "Epoch 5/50\n",
      "50000/50000 [==============================] - 2s 36us/step - loss: 1.4884 - acc: 0.4767 - val_loss: 1.5909 - val_acc: 0.4474\n",
      "Epoch 6/50\n",
      "50000/50000 [==============================] - 2s 37us/step - loss: 1.4444 - acc: 0.4957 - val_loss: 1.5607 - val_acc: 0.4519\n",
      "Epoch 7/50\n",
      "50000/50000 [==============================] - 2s 37us/step - loss: 1.4059 - acc: 0.5082 - val_loss: 1.5460 - val_acc: 0.4590\n",
      "Epoch 8/50\n",
      "50000/50000 [==============================] - 2s 37us/step - loss: 1.3708 - acc: 0.5220 - val_loss: 1.5272 - val_acc: 0.4622\n",
      "Epoch 9/50\n",
      "50000/50000 [==============================] - 2s 36us/step - loss: 1.3402 - acc: 0.5311 - val_loss: 1.5196 - val_acc: 0.4674\n",
      "Epoch 10/50\n",
      "50000/50000 [==============================] - 2s 36us/step - loss: 1.3112 - acc: 0.5412 - val_loss: 1.4913 - val_acc: 0.4738\n",
      "Epoch 11/50\n",
      "50000/50000 [==============================] - 2s 36us/step - loss: 1.2845 - acc: 0.5533 - val_loss: 1.4908 - val_acc: 0.4742\n",
      "Epoch 12/50\n",
      "50000/50000 [==============================] - 2s 37us/step - loss: 1.2585 - acc: 0.5639 - val_loss: 1.4775 - val_acc: 0.4768\n",
      "Epoch 13/50\n",
      "50000/50000 [==============================] - 2s 37us/step - loss: 1.2312 - acc: 0.5725 - val_loss: 1.4785 - val_acc: 0.4829\n",
      "Epoch 14/50\n",
      "50000/50000 [==============================] - 2s 36us/step - loss: 1.2055 - acc: 0.5829 - val_loss: 1.4694 - val_acc: 0.4852\n",
      "Epoch 15/50\n",
      "50000/50000 [==============================] - 2s 36us/step - loss: 1.1823 - acc: 0.5907 - val_loss: 1.4675 - val_acc: 0.4832\n",
      "Epoch 16/50\n",
      "50000/50000 [==============================] - 2s 36us/step - loss: 1.1598 - acc: 0.5978 - val_loss: 1.4752 - val_acc: 0.4880\n",
      "Epoch 17/50\n",
      "50000/50000 [==============================] - 2s 36us/step - loss: 1.1367 - acc: 0.6080 - val_loss: 1.4597 - val_acc: 0.4880\n",
      "Epoch 18/50\n",
      "50000/50000 [==============================] - 2s 37us/step - loss: 1.1142 - acc: 0.6158 - val_loss: 1.4606 - val_acc: 0.4931\n",
      "Epoch 19/50\n",
      "50000/50000 [==============================] - 2s 37us/step - loss: 1.0915 - acc: 0.6243 - val_loss: 1.4511 - val_acc: 0.4948\n",
      "Epoch 20/50\n",
      "50000/50000 [==============================] - 2s 36us/step - loss: 1.0686 - acc: 0.6330 - val_loss: 1.4644 - val_acc: 0.4872\n",
      "Epoch 21/50\n",
      "50000/50000 [==============================] - 2s 37us/step - loss: 1.0499 - acc: 0.6410 - val_loss: 1.4612 - val_acc: 0.4893\n",
      "Epoch 22/50\n",
      "50000/50000 [==============================] - 2s 36us/step - loss: 1.0274 - acc: 0.6492 - val_loss: 1.4605 - val_acc: 0.4877\n",
      "Epoch 23/50\n",
      "50000/50000 [==============================] - 2s 36us/step - loss: 1.0072 - acc: 0.6554 - val_loss: 1.4558 - val_acc: 0.4912\n",
      "Epoch 24/50\n",
      "50000/50000 [==============================] - 2s 36us/step - loss: 0.9883 - acc: 0.6629 - val_loss: 1.4595 - val_acc: 0.4900\n",
      "Epoch 25/50\n",
      "50000/50000 [==============================] - 2s 37us/step - loss: 0.9675 - acc: 0.6712 - val_loss: 1.4730 - val_acc: 0.4934\n",
      "Epoch 26/50\n",
      "50000/50000 [==============================] - 2s 36us/step - loss: 0.9469 - acc: 0.6793 - val_loss: 1.4710 - val_acc: 0.4918\n",
      "Epoch 27/50\n",
      "50000/50000 [==============================] - 2s 37us/step - loss: 0.9258 - acc: 0.6884 - val_loss: 1.4712 - val_acc: 0.4854\n",
      "Epoch 28/50\n",
      "50000/50000 [==============================] - 2s 37us/step - loss: 0.9058 - acc: 0.6979 - val_loss: 1.4700 - val_acc: 0.4868\n",
      "Epoch 29/50\n",
      "50000/50000 [==============================] - 2s 36us/step - loss: 0.8850 - acc: 0.7037 - val_loss: 1.4782 - val_acc: 0.4917\n",
      "Epoch 30/50\n",
      "50000/50000 [==============================] - 2s 37us/step - loss: 0.8657 - acc: 0.7116 - val_loss: 1.4809 - val_acc: 0.4943\n",
      "Epoch 31/50\n",
      "50000/50000 [==============================] - 2s 37us/step - loss: 0.8460 - acc: 0.7196 - val_loss: 1.4933 - val_acc: 0.4926\n",
      "Epoch 32/50\n",
      "50000/50000 [==============================] - 2s 37us/step - loss: 0.8263 - acc: 0.7252 - val_loss: 1.4943 - val_acc: 0.4902\n",
      "Epoch 33/50\n",
      "50000/50000 [==============================] - 2s 37us/step - loss: 0.8065 - acc: 0.7333 - val_loss: 1.4982 - val_acc: 0.4868\n",
      "Epoch 34/50\n",
      "50000/50000 [==============================] - 2s 37us/step - loss: 0.7865 - acc: 0.7439 - val_loss: 1.4985 - val_acc: 0.4922\n",
      "Epoch 35/50\n",
      "50000/50000 [==============================] - 2s 36us/step - loss: 0.7674 - acc: 0.7507 - val_loss: 1.5099 - val_acc: 0.4896\n",
      "Epoch 36/50\n",
      "50000/50000 [==============================] - 2s 37us/step - loss: 0.7517 - acc: 0.7572 - val_loss: 1.5205 - val_acc: 0.4963\n",
      "Epoch 37/50\n",
      "50000/50000 [==============================] - 2s 37us/step - loss: 0.7306 - acc: 0.7662 - val_loss: 1.5127 - val_acc: 0.4913\n",
      "Epoch 38/50\n",
      "50000/50000 [==============================] - 2s 37us/step - loss: 0.7132 - acc: 0.7727 - val_loss: 1.5504 - val_acc: 0.4881\n",
      "Epoch 39/50\n",
      "50000/50000 [==============================] - 2s 37us/step - loss: 0.6936 - acc: 0.7799 - val_loss: 1.5521 - val_acc: 0.4887\n",
      "Epoch 40/50\n",
      "50000/50000 [==============================] - 2s 37us/step - loss: 0.6742 - acc: 0.7884 - val_loss: 1.5494 - val_acc: 0.4873\n",
      "Epoch 41/50\n",
      "50000/50000 [==============================] - 2s 37us/step - loss: 0.6587 - acc: 0.7916 - val_loss: 1.5646 - val_acc: 0.4880\n",
      "Epoch 42/50\n",
      "50000/50000 [==============================] - 2s 37us/step - loss: 0.6377 - acc: 0.8028 - val_loss: 1.5800 - val_acc: 0.4872\n",
      "Epoch 43/50\n",
      "50000/50000 [==============================] - 2s 37us/step - loss: 0.6205 - acc: 0.8109 - val_loss: 1.5875 - val_acc: 0.4856\n",
      "Epoch 44/50\n",
      "50000/50000 [==============================] - 2s 36us/step - loss: 0.6041 - acc: 0.8164 - val_loss: 1.6048 - val_acc: 0.4891\n",
      "Epoch 45/50\n",
      "50000/50000 [==============================] - 2s 36us/step - loss: 0.5889 - acc: 0.8217 - val_loss: 1.5990 - val_acc: 0.4882\n",
      "Epoch 46/50\n",
      "50000/50000 [==============================] - 2s 36us/step - loss: 0.5702 - acc: 0.8305 - val_loss: 1.6533 - val_acc: 0.4757\n",
      "Epoch 47/50\n",
      "50000/50000 [==============================] - 2s 36us/step - loss: 0.5529 - acc: 0.8372 - val_loss: 1.6437 - val_acc: 0.4837\n",
      "Epoch 48/50\n",
      "50000/50000 [==============================] - 2s 36us/step - loss: 0.5349 - acc: 0.8449 - val_loss: 1.6439 - val_acc: 0.4825\n",
      "Epoch 49/50\n",
      "50000/50000 [==============================] - 2s 36us/step - loss: 0.5204 - acc: 0.8498 - val_loss: 1.6645 - val_acc: 0.4811\n",
      "Epoch 50/50\n",
      "50000/50000 [==============================] - 2s 37us/step - loss: 0.5035 - acc: 0.8583 - val_loss: 1.6744 - val_acc: 0.4818\n"
     ]
    }
   ],
   "source": [
    "# 載入 Callbacks\n",
    "\"\"\"Code Here\n",
    "設定 callbacks: model checkpoint\n",
    "\"\"\"\n",
    "\n",
    "from keras.callbacks import ModelCheckpoint\n",
    "\n",
    "model_ckpt = ModelCheckpoint(filepath=\"../model_res/tmp.h5\", \n",
    "                             monitor=\"val_loss\", \n",
    "                             save_best_only=True)\n",
    "\n",
    "results = {}\n",
    "\"\"\"Code Here\n",
    "撰寫你的訓練流程並將結果用 dictionary 紀錄\n",
    "\"\"\"\n",
    "\n",
    "\n",
    "model = build_mlp(input_shape=x_train.shape[1:])\n",
    "model.summary()\n",
    "optimizer = keras.optimizers.SGD(lr=LEARNING_RATE, nesterov=True, momentum=MOMENTUM)\n",
    "model.compile(loss=\"categorical_crossentropy\", metrics=[\"accuracy\"], optimizer=optimizer)\n",
    "\n",
    "model.fit(x_train, y_train, \n",
    "          epochs=EPOCHS, \n",
    "          batch_size=BATCH_SIZE, \n",
    "          validation_data=(x_test, y_test), \n",
    "          shuffle=True,\n",
    "          callbacks=[model_ckpt]\n",
    "         )\n",
    "\n",
    "# Collect results\n",
    "train_loss = model.history.history[\"loss\"]\n",
    "valid_loss = model.history.history[\"val_loss\"]\n",
    "train_acc = model.history.history[\"acc\"]\n",
    "valid_acc = model.history.history[\"val_acc\"]\n"
   ]
  },
  {
   "cell_type": "code",
   "execution_count": 9,
   "metadata": {},
   "outputs": [
    {
     "name": "stdout",
     "output_type": "stream",
     "text": [
      "10000/10000 [==============================] - 1s 62us/step\n"
     ]
    }
   ],
   "source": [
    "\n",
    "# Load back\n",
    "model = keras.models.load_model(\"../model_res/tmp.h5\")\n",
    "loss_loadback, acc_loadback = model.evaluate(x_test, y_test)"
   ]
  },
  {
   "cell_type": "code",
   "execution_count": 10,
   "metadata": {
    "scrolled": true
   },
   "outputs": [
    {
     "data": {
      "image/png": "[encoded data removed]",
      "text/plain": [
       "<Figure size 432x288 with 1 Axes>"
      ]
     },
     "metadata": {
      "needs_background": "light"
     },
     "output_type": "display_data"
    },
    {
     "data": {
      "image/png": "[encoded data removed]",
      "text/plain": [
       "<Figure size 432x288 with 1 Axes>"
      ]
     },
     "metadata": {
      "needs_background": "light"
     },
     "output_type": "display_data"
    }
   ],
   "source": [
    "import matplotlib.pyplot as plt\n",
    "%matplotlib inline\n",
    "\n",
    "plt.plot(range(len(train_loss)), train_loss, label=\"train loss\")\n",
    "plt.plot(range(len(valid_loss)), valid_loss, label=\"valid loss\")\n",
    "plt.hlines(y=loss_loadback, xmin=0, xmax=len(train_loss), colors='r', linestyles='--')\n",
    "plt.legend()\n",
    "plt.title(\"Loss\")\n",
    "plt.show()\n",
    "\n",
    "plt.plot(range(len(train_acc)), train_acc, label=\"train accuracy\")\n",
    "plt.plot(range(len(valid_acc)), valid_acc, label=\"valid accuracy\")\n",
    "plt.hlines(y=acc_loadback, xmin=0, xmax=len(train_loss), colors='r', linestyles='--')\n",
    "plt.legend()\n",
    "plt.title(\"Accuracy\")\n",
    "plt.show()"
   ]
  }
 ],
 "metadata": {
  "kernelspec": {
   "display_name": "Python 3",
   "language": "python",
   "name": "python3"
  },
  "language_info": {
   "codemirror_mode": {
    "name": "ipython",
    "version": 3
   },
   "file_extension": ".py",
   "mimetype": "text/x-python",
   "name": "python",
   "nbconvert_exporter": "python",
   "pygments_lexer": "ipython3",
   "version": "3.6.8"
  }
 },
 "nbformat": 4,
 "nbformat_minor": 2
}
