{
 "cells": [
  {
   "cell_type": "markdown",
   "metadata": {},
   "source": [
    "## Work\n",
    "1. 請嘗試將 preproc_x 替換成以每筆資料的 min/max 進行標準化至 -1 ~ 1 間，再進行訓練\n",
    "2. 請嘗試將 mlp 疊更深 (e.g 5~10 層)，進行訓練後觀察 learning curve 的走勢\n",
    "3. (optional) 請改用 GPU 進行訓練 (如果你有 GPU 的話)，比較使用 CPU 與 GPU 的訓練速度"
   ]
  },
  {
   "cell_type": "code",
   "execution_count": 1,
   "metadata": {},
   "outputs": [
    {
     "data": {
      "text/plain": [
       "'\\nYour code here (optional)\\n確認硬體資源\\n'"
      ]
     },
     "execution_count": 1,
     "metadata": {},
     "output_type": "execute_result"
    }
   ],
   "source": [
    "## \n",
    "\"\"\"\n",
    "Your code here (optional)\n",
    "確認硬體資源\n",
    "\"\"\"\n"
   ]
  },
  {
   "cell_type": "code",
   "execution_count": 2,
   "metadata": {},
   "outputs": [
    {
     "name": "stderr",
     "output_type": "stream",
     "text": [
      "Using TensorFlow backend.\n"
     ]
    }
   ],
   "source": [
    "import os\n",
    "import keras\n",
    "from keras.models import Sequential, load_model\n",
    "import tensorflow as tf\n",
    "from sklearn.preprocessing import MinMaxScaler\n",
    "\n",
    "# 請嘗試設定 GPU：os.environ\n",
    "os.environ[\"CUDA_VISIBLE_DEVICES\"] = \"0\"\n",
    "gpu_options = tf.GPUOptions(per_process_gpu_memory_fraction=0.333)  \n",
    "sess = tf.Session(config=tf.ConfigProto(gpu_options=gpu_options))  "
   ]
  },
  {
   "cell_type": "code",
   "execution_count": 3,
   "metadata": {},
   "outputs": [],
   "source": [
    "train, test = keras.datasets.cifar10.load_data()"
   ]
  },
  {
   "cell_type": "code",
   "execution_count": 4,
   "metadata": {},
   "outputs": [],
   "source": [
    "## 資料前處理\n",
    "def preproc_x(x, flatten=True):\n",
    "    \n",
    "    if flatten:\n",
    "        x = x.reshape((len(x), -1))\n",
    "        x = MinMaxScaler().fit_transform(x)\n",
    "    return x\n",
    "\n",
    "def preproc_y(y, num_classes=10):\n",
    "    if y.shape[-1] == 1:\n",
    "        y = keras.utils.to_categorical(y, num_classes)\n",
    "    return y "
   ]
  },
  {
   "cell_type": "code",
   "execution_count": 5,
   "metadata": {},
   "outputs": [],
   "source": [
    "x_train, y_train = train\n",
    "x_test, y_test = test\n",
    "\n",
    "# Preproc the inputs\n",
    "x_train = preproc_x(x_train,flatten=True)\n",
    "x_test = preproc_x(x_test,flatten=True)\n",
    "\n",
    "# Preprc the outputs\n",
    "y_train = preproc_y(y_train)\n",
    "y_test = preproc_y(y_test)"
   ]
  },
  {
   "cell_type": "code",
   "execution_count": null,
   "metadata": {},
   "outputs": [],
   "source": []
  },
  {
   "cell_type": "code",
   "execution_count": 6,
   "metadata": {},
   "outputs": [
    {
     "name": "stdout",
     "output_type": "stream",
     "text": [
      "WARNING:tensorflow:From C:\\Users\\USer\\Anaconda3\\envs\\Analysis\\lib\\site-packages\\tensorflow\\python\\framework\\op_def_library.py:263: colocate_with (from tensorflow.python.framework.ops) is deprecated and will be removed in a future version.\n",
      "Instructions for updating:\n",
      "Colocations handled automatically by placer.\n",
      "_________________________________________________________________\n",
      "Layer (type)                 Output Shape              Param #   \n",
      "=================================================================\n",
      "input_1 (InputLayer)         (None, 3072)              0         \n",
      "_________________________________________________________________\n",
      "dense_1 (Dense)              (None, 512)               1573376   \n",
      "_________________________________________________________________\n",
      "dense_2 (Dense)              (None, 256)               131328    \n",
      "_________________________________________________________________\n",
      "dense_3 (Dense)              (None, 128)               32896     \n",
      "_________________________________________________________________\n",
      "dense_4 (Dense)              (None, 10)                1290      \n",
      "=================================================================\n",
      "Total params: 1,738,890\n",
      "Trainable params: 1,738,890\n",
      "Non-trainable params: 0\n",
      "_________________________________________________________________\n"
     ]
    }
   ],
   "source": [
    "\"\"\"Code Here\n",
    "建立你的神經網路\n",
    "\"\"\"\n",
    "def build_mlp():\n",
    "    input_layer = keras.layers.Input([x_train.shape[-1]])\n",
    "    x = keras.layers.Dense(units=512, activation=\"relu\")(input_layer)\n",
    "    x = keras.layers.Dense(units=256, activation=\"relu\")(x)\n",
    "    x = keras.layers.Dense(units=128, activation=\"relu\")(x)\n",
    "    out = keras.layers.Dense(units=10, activation=\"softmax\")(x)\n",
    "    \n",
    "    model = keras.models.Model(inputs=[input_layer], outputs=[out])\n",
    "    return model\n",
    "model = build_mlp()\n",
    "model.summary()"
   ]
  },
  {
   "cell_type": "code",
   "execution_count": 7,
   "metadata": {},
   "outputs": [],
   "source": [
    "## 超參數設定\n",
    "LEARNING_RATE = 0.001\n",
    "EPOCHS = 100\n",
    "BATCH_SIZE = 256"
   ]
  },
  {
   "cell_type": "code",
   "execution_count": 8,
   "metadata": {},
   "outputs": [],
   "source": [
    "optimizer = keras.optimizers.Adam(lr=LEARNING_RATE)\n",
    "model.compile(loss=\"categorical_crossentropy\", metrics=[\"accuracy\"], optimizer=optimizer)"
   ]
  },
  {
   "cell_type": "code",
   "execution_count": 9,
   "metadata": {},
   "outputs": [
    {
     "name": "stdout",
     "output_type": "stream",
     "text": [
      "WARNING:tensorflow:From C:\\Users\\USer\\Anaconda3\\envs\\Analysis\\lib\\site-packages\\tensorflow\\python\\ops\\math_ops.py:3066: to_int32 (from tensorflow.python.ops.math_ops) is deprecated and will be removed in a future version.\n",
      "Instructions for updating:\n",
      "Use tf.cast instead.\n",
      "Train on 50000 samples, validate on 10000 samples\n",
      "Epoch 1/100\n",
      "50000/50000 [==============================] - 3s 64us/step - loss: 1.9788 - acc: 0.2890 - val_loss: 1.7918 - val_acc: 0.3637\n",
      "Epoch 2/100\n",
      "50000/50000 [==============================] - 2s 50us/step - loss: 1.7314 - acc: 0.3796 - val_loss: 1.6860 - val_acc: 0.3971\n",
      "Epoch 3/100\n",
      "50000/50000 [==============================] - 3s 50us/step - loss: 1.6357 - acc: 0.4150 - val_loss: 1.6167 - val_acc: 0.4253\n",
      "Epoch 4/100\n",
      "50000/50000 [==============================] - 2s 50us/step - loss: 1.5752 - acc: 0.4387 - val_loss: 1.5445 - val_acc: 0.4477\n",
      "Epoch 5/100\n",
      "50000/50000 [==============================] - 3s 50us/step - loss: 1.5223 - acc: 0.4551 - val_loss: 1.6220 - val_acc: 0.4249\n",
      "Epoch 6/100\n",
      "50000/50000 [==============================] - 3s 51us/step - loss: 1.4876 - acc: 0.4717 - val_loss: 1.4829 - val_acc: 0.4716\n",
      "Epoch 7/100\n",
      "50000/50000 [==============================] - 3s 50us/step - loss: 1.4519 - acc: 0.4825 - val_loss: 1.4792 - val_acc: 0.4655\n",
      "Epoch 8/100\n",
      "50000/50000 [==============================] - 3s 50us/step - loss: 1.4149 - acc: 0.4981 - val_loss: 1.4601 - val_acc: 0.4760\n",
      "Epoch 9/100\n",
      "50000/50000 [==============================] - 2s 50us/step - loss: 1.3844 - acc: 0.5085 - val_loss: 1.4950 - val_acc: 0.4699\n",
      "Epoch 10/100\n",
      "50000/50000 [==============================] - 3s 50us/step - loss: 1.3665 - acc: 0.5135 - val_loss: 1.4302 - val_acc: 0.4888\n",
      "Epoch 11/100\n",
      "50000/50000 [==============================] - 3s 50us/step - loss: 1.3357 - acc: 0.5234 - val_loss: 1.4448 - val_acc: 0.4912\n",
      "Epoch 12/100\n",
      "50000/50000 [==============================] - 3s 51us/step - loss: 1.3100 - acc: 0.5346 - val_loss: 1.4028 - val_acc: 0.5021\n",
      "Epoch 13/100\n",
      "50000/50000 [==============================] - 3s 50us/step - loss: 1.2963 - acc: 0.5385 - val_loss: 1.3904 - val_acc: 0.5107\n",
      "Epoch 14/100\n",
      "50000/50000 [==============================] - 3s 50us/step - loss: 1.2610 - acc: 0.5488 - val_loss: 1.4088 - val_acc: 0.5028\n",
      "Epoch 15/100\n",
      "50000/50000 [==============================] - 3s 50us/step - loss: 1.2529 - acc: 0.5505 - val_loss: 1.4741 - val_acc: 0.4875\n",
      "Epoch 16/100\n",
      "50000/50000 [==============================] - 3s 51us/step - loss: 1.2327 - acc: 0.5612 - val_loss: 1.3531 - val_acc: 0.5170\n",
      "Epoch 17/100\n",
      "50000/50000 [==============================] - 3s 51us/step - loss: 1.1985 - acc: 0.5724 - val_loss: 1.3862 - val_acc: 0.5121\n",
      "Epoch 18/100\n",
      "50000/50000 [==============================] - 2s 50us/step - loss: 1.1817 - acc: 0.5785 - val_loss: 1.3842 - val_acc: 0.5126\n",
      "Epoch 19/100\n",
      "50000/50000 [==============================] - 2s 49us/step - loss: 1.1635 - acc: 0.5824 - val_loss: 1.4291 - val_acc: 0.4942\n",
      "Epoch 20/100\n",
      "50000/50000 [==============================] - 2s 49us/step - loss: 1.1474 - acc: 0.5896 - val_loss: 1.3897 - val_acc: 0.5069\n",
      "Epoch 21/100\n",
      "50000/50000 [==============================] - 2s 50us/step - loss: 1.1287 - acc: 0.5959 - val_loss: 1.4047 - val_acc: 0.5114\n",
      "Epoch 22/100\n",
      "50000/50000 [==============================] - 3s 50us/step - loss: 1.1048 - acc: 0.6055 - val_loss: 1.3865 - val_acc: 0.5137\n",
      "Epoch 23/100\n",
      "50000/50000 [==============================] - 3s 52us/step - loss: 1.0881 - acc: 0.6117 - val_loss: 1.3970 - val_acc: 0.5186\n",
      "Epoch 24/100\n",
      "50000/50000 [==============================] - 3s 55us/step - loss: 1.0729 - acc: 0.6164 - val_loss: 1.3737 - val_acc: 0.5201\n",
      "Epoch 25/100\n",
      "50000/50000 [==============================] - 3s 66us/step - loss: 1.0494 - acc: 0.6249 - val_loss: 1.3687 - val_acc: 0.5256\n",
      "Epoch 26/100\n",
      "50000/50000 [==============================] - 3s 51us/step - loss: 1.0357 - acc: 0.6316 - val_loss: 1.3767 - val_acc: 0.5266\n",
      "Epoch 27/100\n",
      "50000/50000 [==============================] - 3s 50us/step - loss: 1.0193 - acc: 0.6364 - val_loss: 1.4105 - val_acc: 0.5203\n",
      "Epoch 28/100\n",
      "50000/50000 [==============================] - 3s 50us/step - loss: 0.9923 - acc: 0.6455 - val_loss: 1.4164 - val_acc: 0.5166\n",
      "Epoch 29/100\n",
      "50000/50000 [==============================] - 2s 50us/step - loss: 0.9704 - acc: 0.6539 - val_loss: 1.4034 - val_acc: 0.5221\n",
      "Epoch 30/100\n",
      "50000/50000 [==============================] - 2s 49us/step - loss: 0.9565 - acc: 0.6594 - val_loss: 1.4683 - val_acc: 0.5129\n",
      "Epoch 31/100\n",
      "50000/50000 [==============================] - 2s 50us/step - loss: 0.9449 - acc: 0.6630 - val_loss: 1.4197 - val_acc: 0.5290\n",
      "Epoch 32/100\n",
      "50000/50000 [==============================] - 3s 51us/step - loss: 0.9317 - acc: 0.6675 - val_loss: 1.4715 - val_acc: 0.5157\n",
      "Epoch 33/100\n",
      "50000/50000 [==============================] - 2s 49us/step - loss: 0.9112 - acc: 0.6743 - val_loss: 1.4895 - val_acc: 0.5135\n",
      "Epoch 34/100\n",
      "50000/50000 [==============================] - 2s 50us/step - loss: 0.9021 - acc: 0.6783 - val_loss: 1.4587 - val_acc: 0.5225\n",
      "Epoch 35/100\n",
      "50000/50000 [==============================] - 3s 51us/step - loss: 0.8702 - acc: 0.6888 - val_loss: 1.4725 - val_acc: 0.5231\n",
      "Epoch 36/100\n",
      "50000/50000 [==============================] - 2s 49us/step - loss: 0.8577 - acc: 0.6914 - val_loss: 1.4777 - val_acc: 0.5273\n",
      "Epoch 37/100\n",
      "50000/50000 [==============================] - 3s 50us/step - loss: 0.8484 - acc: 0.6972 - val_loss: 1.5291 - val_acc: 0.5202\n",
      "Epoch 38/100\n",
      "50000/50000 [==============================] - 3s 50us/step - loss: 0.8253 - acc: 0.7036 - val_loss: 1.5063 - val_acc: 0.5238\n",
      "Epoch 39/100\n",
      "50000/50000 [==============================] - 2s 50us/step - loss: 0.8077 - acc: 0.7119 - val_loss: 1.5154 - val_acc: 0.5288\n",
      "Epoch 40/100\n",
      "50000/50000 [==============================] - 3s 50us/step - loss: 0.7896 - acc: 0.7174 - val_loss: 1.5690 - val_acc: 0.5207\n",
      "Epoch 41/100\n",
      "50000/50000 [==============================] - 2s 50us/step - loss: 0.7885 - acc: 0.7161 - val_loss: 1.5725 - val_acc: 0.5197\n",
      "Epoch 42/100\n",
      "50000/50000 [==============================] - 2s 49us/step - loss: 0.7670 - acc: 0.7250 - val_loss: 1.5875 - val_acc: 0.5216\n",
      "Epoch 43/100\n",
      "50000/50000 [==============================] - 3s 50us/step - loss: 0.7404 - acc: 0.7359 - val_loss: 1.6693 - val_acc: 0.5143\n",
      "Epoch 44/100\n",
      "50000/50000 [==============================] - 3s 50us/step - loss: 0.7352 - acc: 0.7371 - val_loss: 1.6677 - val_acc: 0.5217\n",
      "Epoch 45/100\n",
      "50000/50000 [==============================] - 3s 51us/step - loss: 0.7226 - acc: 0.7394 - val_loss: 1.6795 - val_acc: 0.5205\n",
      "Epoch 46/100\n",
      "50000/50000 [==============================] - 2s 50us/step - loss: 0.7053 - acc: 0.7468 - val_loss: 1.6772 - val_acc: 0.5172\n",
      "Epoch 47/100\n",
      "50000/50000 [==============================] - 3s 52us/step - loss: 0.7037 - acc: 0.7470 - val_loss: 1.6946 - val_acc: 0.5160\n",
      "Epoch 48/100\n",
      "50000/50000 [==============================] - 3s 52us/step - loss: 0.6832 - acc: 0.7549 - val_loss: 1.7404 - val_acc: 0.5124\n",
      "Epoch 49/100\n",
      "50000/50000 [==============================] - 3s 51us/step - loss: 0.6707 - acc: 0.7584 - val_loss: 1.7503 - val_acc: 0.5150\n",
      "Epoch 50/100\n",
      "50000/50000 [==============================] - 3s 50us/step - loss: 0.6597 - acc: 0.7637 - val_loss: 1.7665 - val_acc: 0.5132\n",
      "Epoch 51/100\n",
      "50000/50000 [==============================] - 2s 50us/step - loss: 0.6441 - acc: 0.7667 - val_loss: 1.7979 - val_acc: 0.5090\n",
      "Epoch 52/100\n",
      "50000/50000 [==============================] - 3s 51us/step - loss: 0.6215 - acc: 0.7778 - val_loss: 1.8253 - val_acc: 0.5120\n",
      "Epoch 53/100\n",
      "50000/50000 [==============================] - 2s 50us/step - loss: 0.6139 - acc: 0.7800 - val_loss: 1.8718 - val_acc: 0.5131\n",
      "Epoch 54/100\n",
      "50000/50000 [==============================] - 2s 50us/step - loss: 0.6055 - acc: 0.7838 - val_loss: 1.8083 - val_acc: 0.5191\n",
      "Epoch 55/100\n",
      "50000/50000 [==============================] - 2s 50us/step - loss: 0.6146 - acc: 0.7777 - val_loss: 1.9792 - val_acc: 0.5035\n",
      "Epoch 56/100\n",
      "50000/50000 [==============================] - 3s 51us/step - loss: 0.5878 - acc: 0.7894 - val_loss: 1.9128 - val_acc: 0.5162\n",
      "Epoch 57/100\n",
      "50000/50000 [==============================] - 3s 53us/step - loss: 0.5792 - acc: 0.7897 - val_loss: 1.9484 - val_acc: 0.5057\n",
      "Epoch 58/100\n",
      "50000/50000 [==============================] - 3s 52us/step - loss: 0.5546 - acc: 0.8014 - val_loss: 1.9840 - val_acc: 0.5070\n",
      "Epoch 59/100\n",
      "50000/50000 [==============================] - 3s 50us/step - loss: 0.5437 - acc: 0.8053 - val_loss: 1.9970 - val_acc: 0.5095\n",
      "Epoch 60/100\n",
      "50000/50000 [==============================] - 2s 50us/step - loss: 0.5362 - acc: 0.8089 - val_loss: 1.9818 - val_acc: 0.5094\n",
      "Epoch 61/100\n",
      "50000/50000 [==============================] - 2s 50us/step - loss: 0.5360 - acc: 0.8077 - val_loss: 2.0581 - val_acc: 0.5050\n",
      "Epoch 62/100\n",
      "50000/50000 [==============================] - 3s 50us/step - loss: 0.5260 - acc: 0.8108 - val_loss: 2.0218 - val_acc: 0.5140\n",
      "Epoch 63/100\n",
      "50000/50000 [==============================] - 3s 52us/step - loss: 0.5188 - acc: 0.8138 - val_loss: 2.1006 - val_acc: 0.5040\n",
      "Epoch 64/100\n",
      "50000/50000 [==============================] - 3s 50us/step - loss: 0.5002 - acc: 0.8211 - val_loss: 2.0799 - val_acc: 0.5090\n",
      "Epoch 65/100\n",
      "50000/50000 [==============================] - 3s 51us/step - loss: 0.4898 - acc: 0.8245 - val_loss: 2.1552 - val_acc: 0.5090\n",
      "Epoch 66/100\n",
      "50000/50000 [==============================] - 3s 50us/step - loss: 0.4716 - acc: 0.8314 - val_loss: 2.1899 - val_acc: 0.5057\n",
      "Epoch 67/100\n",
      "50000/50000 [==============================] - 3s 51us/step - loss: 0.4785 - acc: 0.8271 - val_loss: 2.2312 - val_acc: 0.5045\n",
      "Epoch 68/100\n",
      "50000/50000 [==============================] - 3s 53us/step - loss: 0.4658 - acc: 0.8318 - val_loss: 2.2242 - val_acc: 0.5084\n",
      "Epoch 69/100\n",
      "50000/50000 [==============================] - 3s 56us/step - loss: 0.4530 - acc: 0.8384 - val_loss: 2.2746 - val_acc: 0.5010\n",
      "Epoch 70/100\n",
      "50000/50000 [==============================] - 2s 50us/step - loss: 0.4484 - acc: 0.8382 - val_loss: 2.3278 - val_acc: 0.5053\n",
      "Epoch 71/100\n",
      "50000/50000 [==============================] - 3s 50us/step - loss: 0.4412 - acc: 0.8403 - val_loss: 2.3764 - val_acc: 0.4995\n",
      "Epoch 72/100\n",
      "50000/50000 [==============================] - 3s 50us/step - loss: 0.4259 - acc: 0.8460 - val_loss: 2.3703 - val_acc: 0.5070\n",
      "Epoch 73/100\n",
      "50000/50000 [==============================] - 3s 59us/step - loss: 0.4406 - acc: 0.8418 - val_loss: 2.3906 - val_acc: 0.5026\n",
      "Epoch 74/100\n",
      "50000/50000 [==============================] - 3s 52us/step - loss: 0.4128 - acc: 0.8521 - val_loss: 2.4032 - val_acc: 0.5106\n",
      "Epoch 75/100\n",
      "50000/50000 [==============================] - 2s 50us/step - loss: 0.4085 - acc: 0.8526 - val_loss: 2.5153 - val_acc: 0.5068\n",
      "Epoch 76/100\n",
      "50000/50000 [==============================] - 2s 50us/step - loss: 0.4233 - acc: 0.8471 - val_loss: 2.4805 - val_acc: 0.4987\n",
      "Epoch 77/100\n",
      "50000/50000 [==============================] - 3s 50us/step - loss: 0.3984 - acc: 0.8558 - val_loss: 2.5081 - val_acc: 0.5033\n",
      "Epoch 78/100\n",
      "50000/50000 [==============================] - 3s 50us/step - loss: 0.3839 - acc: 0.8626 - val_loss: 2.5511 - val_acc: 0.4980\n",
      "Epoch 79/100\n",
      "50000/50000 [==============================] - 3s 53us/step - loss: 0.3990 - acc: 0.8577 - val_loss: 2.5615 - val_acc: 0.5011\n",
      "Epoch 80/100\n",
      "50000/50000 [==============================] - 2s 50us/step - loss: 0.3729 - acc: 0.8659 - val_loss: 2.5903 - val_acc: 0.5018\n",
      "Epoch 81/100\n",
      "50000/50000 [==============================] - 3s 51us/step - loss: 0.3963 - acc: 0.8582 - val_loss: 2.6265 - val_acc: 0.5027\n",
      "Epoch 82/100\n",
      "50000/50000 [==============================] - 3s 61us/step - loss: 0.3740 - acc: 0.8642 - val_loss: 2.6704 - val_acc: 0.4978\n",
      "Epoch 83/100\n",
      "50000/50000 [==============================] - 3s 54us/step - loss: 0.3785 - acc: 0.8631 - val_loss: 2.6949 - val_acc: 0.5003\n",
      "Epoch 84/100\n",
      "50000/50000 [==============================] - 3s 52us/step - loss: 0.3607 - acc: 0.8689 - val_loss: 2.6758 - val_acc: 0.5038\n",
      "Epoch 85/100\n",
      "50000/50000 [==============================] - 3s 51us/step - loss: 0.3394 - acc: 0.8795 - val_loss: 2.7233 - val_acc: 0.5007\n",
      "Epoch 86/100\n",
      "50000/50000 [==============================] - 3s 51us/step - loss: 0.3201 - acc: 0.8868 - val_loss: 2.6985 - val_acc: 0.5044\n",
      "Epoch 87/100\n",
      "50000/50000 [==============================] - 3s 52us/step - loss: 0.3350 - acc: 0.8812 - val_loss: 2.7730 - val_acc: 0.5080\n",
      "Epoch 88/100\n",
      "50000/50000 [==============================] - 2s 50us/step - loss: 0.3406 - acc: 0.8771 - val_loss: 2.8161 - val_acc: 0.4999\n",
      "Epoch 89/100\n",
      "50000/50000 [==============================] - 2s 50us/step - loss: 0.3318 - acc: 0.8799 - val_loss: 2.8161 - val_acc: 0.5002\n",
      "Epoch 90/100\n",
      "50000/50000 [==============================] - 3s 50us/step - loss: 0.3268 - acc: 0.8825 - val_loss: 2.8005 - val_acc: 0.4997\n",
      "Epoch 91/100\n",
      "50000/50000 [==============================] - 3s 50us/step - loss: 0.3610 - acc: 0.8685 - val_loss: 2.8849 - val_acc: 0.4916\n",
      "Epoch 92/100\n",
      "50000/50000 [==============================] - 3s 52us/step - loss: 0.3285 - acc: 0.8824 - val_loss: 2.8836 - val_acc: 0.5040\n",
      "Epoch 93/100\n",
      "50000/50000 [==============================] - 3s 50us/step - loss: 0.2946 - acc: 0.8961 - val_loss: 2.9891 - val_acc: 0.4947\n",
      "Epoch 94/100\n",
      "50000/50000 [==============================] - 3s 51us/step - loss: 0.3234 - acc: 0.8832 - val_loss: 2.9239 - val_acc: 0.5004\n",
      "Epoch 95/100\n",
      "50000/50000 [==============================] - 3s 50us/step - loss: 0.3035 - acc: 0.8905 - val_loss: 3.0252 - val_acc: 0.4975\n",
      "Epoch 96/100\n",
      "50000/50000 [==============================] - 3s 50us/step - loss: 0.2840 - acc: 0.8974 - val_loss: 3.1236 - val_acc: 0.4867\n",
      "Epoch 97/100\n",
      "50000/50000 [==============================] - 2s 50us/step - loss: 0.3225 - acc: 0.8835 - val_loss: 3.1050 - val_acc: 0.4966\n",
      "Epoch 98/100\n",
      "50000/50000 [==============================] - 3s 50us/step - loss: 0.3027 - acc: 0.8914 - val_loss: 3.0259 - val_acc: 0.5035\n",
      "Epoch 99/100\n",
      "50000/50000 [==============================] - 3s 50us/step - loss: 0.3013 - acc: 0.8918 - val_loss: 3.0527 - val_acc: 0.4975\n",
      "Epoch 100/100\n",
      "50000/50000 [==============================] - 3s 51us/step - loss: 0.2729 - acc: 0.9033 - val_loss: 3.1420 - val_acc: 0.4966\n"
     ]
    },
    {
     "data": {
      "text/plain": [
       "<keras.callbacks.History at 0x20b58edc4a8>"
      ]
     },
     "execution_count": 9,
     "metadata": {},
     "output_type": "execute_result"
    }
   ],
   "source": [
    "model.fit(x_train, y_train, \n",
    "          epochs=EPOCHS, \n",
    "          batch_size=BATCH_SIZE, \n",
    "          validation_data=(x_test, y_test), \n",
    "          shuffle=True)"
   ]
  },
  {
   "cell_type": "code",
   "execution_count": 11,
   "metadata": {},
   "outputs": [
    {
     "data": {
      "image/png": "[encoded data removed]",
      "text/plain": [
       "<Figure size 432x288 with 1 Axes>"
      ]
     },
     "metadata": {
      "needs_background": "light"
     },
     "output_type": "display_data"
    },
    {
     "data": {
      "image/png": "[encoded data removed]",
      "text/plain": [
       "<Figure size 432x288 with 1 Axes>"
      ]
     },
     "metadata": {
      "needs_background": "light"
     },
     "output_type": "display_data"
    }
   ],
   "source": [
    "import matplotlib.pyplot as plt\n",
    "%matplotlib inline\n",
    "\n",
    "\n",
    "train_loss = model.history.history[\"loss\"]\n",
    "valid_loss = model.history.history[\"val_loss\"]\n",
    "\n",
    "train_acc = model.history.history[\"acc\"]\n",
    "valid_acc = model.history.history[\"val_acc\"]\n",
    "\n",
    "plt.plot(range(len(train_loss)), train_loss, label=\"train loss\")\n",
    "plt.plot(range(len(valid_loss)), valid_loss, label=\"valid loss\")\n",
    "plt.legend()\n",
    "plt.title(\"Loss\")\n",
    "plt.show()\n",
    "\n",
    "plt.plot(range(len(train_acc)), train_acc, label=\"train accuracy\")\n",
    "plt.plot(range(len(valid_acc)), valid_acc, label=\"valid accuracy\")\n",
    "plt.legend()\n",
    "plt.title(\"Accuracy\")\n",
    "plt.show()"
   ]
  },
  {
   "cell_type": "code",
   "execution_count": null,
   "metadata": {},
   "outputs": [],
   "source": []
  }
 ],
 "metadata": {
  "kernelspec": {
   "display_name": "Python 3",
   "language": "python",
   "name": "python3"
  },
  "language_info": {
   "codemirror_mode": {
    "name": "ipython",
    "version": 3
   },
   "file_extension": ".py",
   "mimetype": "text/x-python",
   "name": "python",
   "nbconvert_exporter": "python",
   "pygments_lexer": "ipython3",
   "version": "3.6.8"
  }
 },
 "nbformat": 4,
 "nbformat_minor": 2
}
